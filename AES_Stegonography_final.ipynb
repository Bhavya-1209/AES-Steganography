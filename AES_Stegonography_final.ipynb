{
  "nbformat": 4,
  "nbformat_minor": 0,
  "metadata": {
    "colab": {
      "provenance": [],
      "authorship_tag": "ABX9TyP1qF8Z8/INMPdrGHceCHS8",
      "include_colab_link": true
    },
    "kernelspec": {
      "name": "python3",
      "display_name": "Python 3"
    },
    "language_info": {
      "name": "python"
    }
  },
  "cells": [
    {
      "cell_type": "markdown",
      "metadata": {
        "id": "view-in-github",
        "colab_type": "text"
      },
      "source": [
        "<a href=\"https://colab.research.google.com/github/Bhavya-1209/AES-Steganography/blob/main/AES_Stegonography_final.ipynb\" target=\"_parent\"><img src=\"https://colab.research.google.com/assets/colab-badge.svg\" alt=\"Open In Colab\"/></a>"
      ]
    },
    {
      "cell_type": "code",
      "execution_count": 3,
      "metadata": {
        "id": "aYPQL4BVyMU4",
        "colab": {
          "base_uri": "https://localhost:8080/"
        },
        "outputId": "c6edef84-1e45-49b3-a6bd-eb742dc9e8d8"
      },
      "outputs": [
        {
          "output_type": "stream",
          "name": "stdout",
          "text": [
            "Requirement already satisfied: pycryptodome in /usr/local/lib/python3.11/dist-packages (3.23.0)\n"
          ]
        }
      ],
      "source": [
        "pip install pycryptodome"
      ]
    },
    {
      "cell_type": "code",
      "source": [
        "import cv2\n",
        "import string\n",
        "import os\n",
        "from Crypto.Cipher import AES\n",
        "from Crypto.Util.Padding import pad, unpad\n",
        "from Crypto.Random import get_random_bytes\n",
        "import hashlib\n",
        "\n",
        "# AES encrypt/decrypt helpers\n",
        "def derive_key(key_str):\n",
        "  return hashlib.sha256(key_str.encode()).digest()[:16] # AES-128\n",
        "\n",
        "def encrypt_message(msg, key_str):\n",
        "  key = derive_key(key_str)\n",
        "  cipher = AES.new(key, AES.MODE_CBC)\n",
        "  ct = cipher.encrypt(pad(msg.encode(), AES.block_size))\n",
        "  return cipher.iv + ct\n",
        "\n",
        "def decrypt_message(cipher_bytes, key_str):\n",
        "  key = derive_key(key_str)\n",
        "  iv = cipher_bytes[:16]\n",
        "  ct = cipher_bytes[16:]\n",
        "  Cipher = AES.new(key, AES.MODE_CBC, iv)\n",
        "  return unpad(Cipher.decrypt(ct), AES.block_size).decode()\n",
        "\n",
        "#char/Byte Mapping\n",
        "d={}\n",
        "c={}\n",
        "for i in range(256):\n",
        "  d[chr(i)]=i\n",
        "  c[i]=chr(i)\n",
        "\n",
        "#Load Image\n",
        "x=cv2.imread('/content/stego.jpg')\n",
        "i,j=x.shape[0],x.shape[1]\n",
        "print(\"Image size:\",i,j)\n",
        "\n",
        "#Get user input\n",
        "key=input(\"Enter Key to encrypt & hide:\")\n",
        "text=input(\"Enter Text to hide:\")\n",
        "\n",
        "#Encrypt message with AES\n",
        "encrypted_bytes=encrypt_message(text,key)\n",
        "l=len(encrypted_bytes)\n",
        "print(f\"Encrypted message length (in bytes): {l}\")\n",
        "\n",
        "#Hide encrypted data\n",
        "kl = 0\n",
        "n=0\n",
        "m=0\n",
        "z=0\n",
        "\n",
        "for i in range(l):\n",
        "  x[n, m, z]=encrypted_bytes[i]^d[key[kl]]\n",
        "  n +=1\n",
        "  m +=1\n",
        "  z = (z+1) % 3\n",
        "  m = (m+1) % 3\n",
        "  kl = (kl+1) % len(key)\n",
        "\n",
        "#save stegonography image\n",
        "cv2.imwrite('encrypted_img.jpg', x)\n",
        "print(\"success\")\n",
        "\n",
        "# Extraction\n",
        "kl=0\n",
        "n=0\n",
        "m=0\n",
        "z=0\n",
        "\n",
        "ch=int(input(\"\\nEnter 1 to extract data from Image:\"))\n",
        "if ch==1:\n",
        "  key1=input(\"enter key to extract text:\")\n",
        "  if key == key1:\n",
        "    encrypted_back=bytearray()\n",
        "    for i in range(l):\n",
        "      encrypted_back.append(x[n,m,z]^d[key[kl]])\n",
        "      n+=1\n",
        "      m+=1\n",
        "      m=(m+1)%3\n",
        "      z=(z+1)%3\n",
        "      kl=(kl+1)%len(key)\n",
        "\n",
        "    try:\n",
        "      decrypted=decrypt_message(bytes(encrypted_back),key)\n",
        "      print(\"Decrypted meassage:\",decrypted)\n",
        "    except:\n",
        "      print(\"Invalid key or message is corrupted\")\n",
        "  else:\n",
        "    print(\"key mismatch\")\n",
        "else:\n",
        "  print(\"Thank you. Existing.\")"
      ],
      "metadata": {
        "colab": {
          "base_uri": "https://localhost:8080/"
        },
        "id": "ydnKEMwqygJo",
        "outputId": "6ad99aa1-49cb-4166-e58d-bb239d83d518"
      },
      "execution_count": 4,
      "outputs": [
        {
          "output_type": "stream",
          "name": "stdout",
          "text": [
            "Image size: 248 204\n",
            "Enter Key to encrypt & hide:66680\n",
            "Enter Text to hide:Hello! its a secret\n",
            "Encrypted message length (in bytes): 48\n",
            "success\n",
            "\n",
            "Enter 1 to extract data from Image:1\n",
            "enter key to extract text:66680\n",
            "Decrypted meassage: Hello! its a secret\n"
          ]
        }
      ]
    }
  ]
}